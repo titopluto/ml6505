{
 "cells": [
  {
   "cell_type": "code",
   "execution_count": 1,
   "metadata": {},
   "outputs": [],
   "source": [
    "import random\n",
    "import numpy as np\n",
    "import pandas as pd\n",
    "import seaborn as sns\n",
    "import matplotlib.pyplot as plt"
   ]
  },
  {
   "cell_type": "markdown",
   "metadata": {},
   "source": [
    "# Question 1A\n",
    "You will “train” a kNN classifier on the following training data:  \n",
    "\n",
    "- The data is 2-dimensional points in a grid, such that the x1-coordinates and x2-coordinates both range\n",
    "from −1.5 . . . 1.5, with a spacing of 0.1 between points.\n",
    "- A training point, x = (x1, x2), will be classified as follows:\n",
    "- Class 1 if kxk2 ≤ 1\n",
    "- Class 2 otherwise  \n",
    "\n",
    "Write code that generates this dataset and displays it using a scatterplot, using different colours for each\n",
    "class.\n",
    "Note kxkp = (x\n",
    "p\n",
    "1 + x\n",
    "p\n",
    "2\n",
    ")\n",
    "1\n",
    "p can be implemented by: numpy.linalg.norm([x[0], x[1]], p)"
   ]
  },
  {
   "cell_type": "code",
   "execution_count": 126,
   "metadata": {},
   "outputs": [],
   "source": [
    "#Question 1 \n",
    "\n",
    "#Helper functions\n",
    "\n",
    "def generate_dataset(data_points, norm_value):\n",
    "    \"\"\"\n",
    "    Function to degenerate a dataset giiven number of datapoints and Norm Value\n",
    "    data_points: number of datapoints \n",
    "    norm_value: the norm to use to create the datapoint\n",
    "    \n",
    "    returns an array \n",
    "    \"\"\"\n",
    "    x_coord = np.linspace(-1.5,1.5,30)\n",
    "    y_coord = np.linspace(-1.5,1.5,30)\n",
    "\n",
    "    x_coord_r = np.array(list(map(lambda x: round(x,1), x_coord)))\n",
    "    y_coord_r = np.array(list(map(lambda x: round(x,1), y_coord)))\n",
    "\n",
    "    x_list = [(random.choice(x_coord_r), random.choice(y_coord_r)) for i in range(data_points)]\n",
    "    y_list = [1 if np.linalg.norm(point, norm_value) <= 1 else 2  for point in x_list]\n",
    "\n",
    "    # create arrays\n",
    "    data_x = np.array(x_list)\n",
    "    data_y = np.array(y_list).reshape(data_points,1)\n",
    "    data = np.concatenate((data_x, data_y), axis=1)\n",
    "    \n",
    "    return data\n",
    "\n",
    "def plot_dataset_graph(train_data, test_data):\n",
    "    \"\"\"\n",
    "    Function to plot a graph giving the train data and test data\n",
    "    \n",
    "    return: None \n",
    "    \"\"\"\n",
    "    #Separate the data based on their classes\n",
    "    class1_train = train_data[train_data['y']==1]\n",
    "    class2_train = train_data[train_data['y']==2]\n",
    "\n",
    "    #check that the classes add up \n",
    "    assert len(class1_train) + len(class2_train) == len(train_data)\n",
    "\n",
    "    #Graph Plotting\n",
    "    # sns.scatterplot(x='x1', y='x2', hue='y', data=train_data)\n",
    "    fig=plt.figure()\n",
    "    ax=fig.add_axes([0,0,1,1])\n",
    "\n",
    "    a = ax.scatter(class1_train['x1'], class1_train['x2'],  color='r')\n",
    "    b = ax.scatter(class2_train['x1'], class2_train['x2'],  color='b')\n",
    "    c = ax.scatter(test_data['x1'], test_data['x2'],  color='g')\n",
    "\n",
    "    ax.set_xlabel('x1')\n",
    "    ax.set_ylabel('x2')\n",
    "    ax.set_title('Graph of X1 vs X2 \\n class1=red, class2=blue. test=green')\n",
    "#     ax.legend([a,b,c],['class1','class2','class3'], loc='upper left')\n",
    "\n",
    "    \n",
    "    return None"
   ]
  },
  {
   "cell_type": "markdown",
   "metadata": {},
   "source": [
    "## Question 1A : Create Dataset "
   ]
  },
  {
   "cell_type": "code",
   "execution_count": 124,
   "metadata": {},
   "outputs": [
    {
     "data": {
      "image/png": "[encoded data removed]",
      "text/plain": [
       "<Figure size 432x288 with 1 Axes>"
      ]
     },
     "metadata": {
      "needs_background": "light"
     },
     "output_type": "display_data"
    }
   ],
   "source": [
    "\n",
    "#create a 900 point dataset with norm value of 2\n",
    "data_points = 900\n",
    "\n",
    "data = generate_dataset(data_points=900, norm_value=2)\n",
    "\n",
    "#Create dataframe from arrays\n",
    "data = pd.DataFrame(data, columns=['x1','x2', 'y'])\n",
    "data['y'] = data['y'].apply(lambda x: int(x))  #  convert the column to an int dtype\n",
    "\n",
    "# slice data in train_data and test_data (ration 70:30)\n",
    "train_data = data[:int(0.7*data_points)]\n",
    "test_data = data[-int(0.3*data_points):]\n",
    "\n",
    "#plot graph\n",
    "plot_dataset_graph(train_data, test_data)"
   ]
  },
  {
   "cell_type": "code",
   "execution_count": 4,
   "metadata": {},
   "outputs": [],
   "source": [
    "#-- Organizing Data \n",
    "train_data_x = train_data[['x1','x2']]\n",
    "train_data_y = train_data[['y']]\n",
    "\n",
    "test_data_x = test_data[['x1','x2']]\n",
    "test_data_y = test_data[['y']]\n"
   ]
  },
  {
   "cell_type": "markdown",
   "metadata": {},
   "source": [
    "## Question 1B: Implement the KNN Algorithm"
   ]
  },
  {
   "cell_type": "code",
   "execution_count": 71,
   "metadata": {},
   "outputs": [],
   "source": [
    "#KNN Class\n",
    "\n",
    "class KNN:\n",
    "    def __init__(self, k , num_classes, logger=False):\n",
    "        \"\"\"\n",
    "        k = K Nearest neigbour k values\n",
    "        num_classes = the number of label categories / classes\n",
    "        logger: Boolean to determine if debug message will be printed to screen or not (optional)\n",
    "                Only to help for troublshooting and coding processing progress!!!\n",
    "        \"\"\"\n",
    "        self.num_classes = num_classes\n",
    "        self.k = k\n",
    "        self.logger = logger\n",
    "        self.parameters = None\n",
    "        \n",
    "    def _calc_matrix_distance(self, matrix1, matrix2):\n",
    "        \"\"\"\n",
    "        calculates the distance between two NX2 matrix\n",
    "        returns: a NX1 matrix of the distances\n",
    "        \"\"\"\n",
    "\n",
    "        flat_arr = np.linalg.norm(matrix1-matrix2, axis=1)\n",
    "        return np.matrix(flat_arr).T\n",
    "    \n",
    "    def _get_majority_label(self, df):\n",
    "        \"\"\"\n",
    "        Returns the majority label in a NX2 matrix where\n",
    "        colums 1 are the distances\n",
    "        column2 are the labels  \n",
    "        returns: an int\n",
    "        \"\"\"\n",
    "        df_label =  df[['label']].mode(axis=0)\n",
    "        return df_label.values[0][0]\n",
    "        \n",
    "    def train(self, training_data, training_labels):\n",
    "        \"\"\"\n",
    "        Train the classifier using the training data and training labels.\n",
    "        Store whatever you think is neccessary in self.parameters.\n",
    "        \"\"\"\n",
    "        self.parameters = None\n",
    "        try:\n",
    "            assert len(training_data) == len(training_labels)\n",
    "        except:\n",
    "            raise ValueError(\"Training Data and Training Label must be equal size!\")\n",
    "   \n",
    "        #Santize the data\n",
    "        if isinstance(training_data, pd.DataFrame):\n",
    "            #convert to a matrix\n",
    "            training_data = training_data.values\n",
    "        if isinstance(training_labels, pd.DataFrame):\n",
    "            #convert to a matrix\n",
    "            training_labels = training_labels.values\n",
    "            training_labels.reshape(-1,1)\n",
    "            \n",
    "        self.training_data = training_data\n",
    "        self.training_labels = training_labels\n",
    "        \n",
    "        if self.logger == True:\n",
    "            print(\"Training Size is: \", len(self.training_data))\n",
    "           \n",
    "    def predict(self, data):\n",
    "        \"\"\"\n",
    "        Make use of the trained parameters to predict the class.\n",
    "        Try using np.lingalg.norm() to compute distances.\n",
    "        Input should be a LIST of d-dimensional points.\n",
    "        The return value should be a LIST of scalars between 1 and num_classes,\n",
    "        indicating for each input point how it is classified.\n",
    "        \"\"\"\n",
    "        counter = 0\n",
    "        total = len(data)\n",
    "        \n",
    "        if self.logger == True:\n",
    "            print(\"Predict Size is: \", total)\n",
    "        \n",
    "        labels = list()\n",
    "        for point in data:\n",
    "            \n",
    "            #convert point into a matrix that is the size of train data\n",
    "            point = np.array(point)\n",
    "\n",
    "            query_matrix = np.array([point] * self.training_data.shape[0])\n",
    "    \n",
    "            neighbour_distance_matrix = self._calc_matrix_distance(query_matrix, self.training_data)\n",
    "            \n",
    "            \n",
    "            #combine neighbour matrix, training labels and distance for easier computation later\n",
    "            df = pd.DataFrame(self.training_data)\n",
    "            df['label'] = self.training_labels\n",
    "            df['distance'] = neighbour_distance_matrix\n",
    "            \n",
    "            #sort frame in ascending order based on distance\n",
    "            df.sort_values(by='distance', inplace=True)\n",
    "            \n",
    "            # get the K Neighbours and majority label\n",
    "            neighbours = df[:self.k]\n",
    "            label = self._get_majority_label(neighbours)\n",
    "            labels.append(label)\n",
    "            \n",
    "            counter += 1\n",
    "            if self.logger == True:\n",
    "                if counter%20 == 0:\n",
    "                    print(f'--- {counter} of {total} ---', end=' ' )\n",
    "\n",
    "        self.predicted_labels = labels            \n",
    "        return labels\n",
    "                \n",
    "    def accuracy(self, data, labels):\n",
    "        \"\"\"\n",
    "        Returns the proportion of correct classifications computed over data.\n",
    "        \n",
    "        \"\"\"\n",
    "        assert len(data) == len(labels)\n",
    "        \n",
    "        #Santize the data\n",
    "        if isinstance(data, pd.DataFrame):\n",
    "            #convert to a matrix\n",
    "            data = data.values\n",
    "        if isinstance(labels, pd.DataFrame):\n",
    "            #convert to a matrix\n",
    "            labels = labels.values\n",
    "            labels.reshape(-1,1)\n",
    "        \n",
    "        predict_labels = self.predict(data)\n",
    "        \n",
    "        predict_df = pd.DataFrame(predict_labels, columns=['predicted'])\n",
    "        predict_df['actual'] = labels\n",
    "        \n",
    "        positives = sum(predict_df['actual'] == predict_df['predicted']) \n",
    "        \n",
    "        acc = (positives / len(data)) * 100\n",
    "        if self.logger == True:   \n",
    "            print(f\"Accuracy is: {acc}%\")\n",
    "            print(\"DONE\")\n",
    "        return (positives / len(data)) * 100\n",
    "        \n",
    "\n",
    "# Example use\n",
    "\n",
    "# Initialize:\n",
    "# myClassifier = KNN(k=1, num_classes=2)\n",
    "\n",
    "# Train:\n",
    "# some_train_data = [(1,1), (2,2), (1,-1), (-1,2)]\n",
    "# some_train_labels = [1, 2, 1, 2]\n",
    "# myClassifier.train(some_train_data, some_train_labels)\n",
    "\n",
    "# Predict:\n",
    "# predictions = myClassifier.predict([(-1,0), (3,3)])\n",
    "# print(predictions) # prints [1, 2]\n",
    "\n",
    "# Accuracy:\n",
    "# acc = myClassifier.accuracy([(1,1), (2,2), (1,-1), (-1,2)], [1, 2, 1, 2])\n",
    "# print(acc) # prints 1.0"
   ]
  },
  {
   "cell_type": "markdown",
   "metadata": {},
   "source": [
    "###  Using the implemented alogrithm with TRAIN data\n"
   ]
  },
  {
   "cell_type": "code",
   "execution_count": 127,
   "metadata": {},
   "outputs": [
    {
     "name": "stdout",
     "output_type": "stream",
     "text": [
      "Accuracy with TRAIN Data and K=1 : 100.0\n",
      "Accuracy with TRAIN Data K=13 : 98.57142857142858\n"
     ]
    }
   ],
   "source": [
    "# -- Using the implemented alogrithm with TRAIN\n",
    "# Expectation of 100% accuracy with K=1 !\n",
    "\n",
    "myClassifier = KNN(k=1, num_classes=2)\n",
    "myClassifier.train(train_data_x.values, train_data_y.values)\n",
    "\n",
    "accuracy_k1 = myClassifier.accuracy(train_data_x, train_data_y)\n",
    "print(\"Accuracy with TRAIN Data and K=1 :\", accuracy_k1)\n",
    "\n",
    "#k=13\n",
    "myClassifier = KNN(k=13, num_classes=2)\n",
    "myClassifier.train(train_data_x.values, train_data_y.values)\n",
    "\n",
    "accuracy_k13 = myClassifier.accuracy(train_data_x, train_data_y)\n",
    "\n",
    "print(\"Accuracy with TRAIN Data K=13 :\", accuracy_k13)"
   ]
  },
  {
   "cell_type": "markdown",
   "metadata": {},
   "source": [
    "###  Using the implemented alogrithm with TEST data\n"
   ]
  },
  {
   "cell_type": "code",
   "execution_count": 8,
   "metadata": {},
   "outputs": [
    {
     "name": "stdout",
     "output_type": "stream",
     "text": [
      "Accuracy with TEST Data and K=1 : 98.14814814814815\n",
      "Accuracy with TEST Data K=13 : 98.14814814814815\n"
     ]
    }
   ],
   "source": [
    "# Using the implemented alogrithm with TEST DATA\n",
    "\n",
    "myClassifier = KNN(k=1, num_classes=2)\n",
    "myClassifier.train(train_data_x.values, train_data_y.values)\n",
    "accuracy_k1_test = myClassifier.accuracy(test_data_x, test_data_y)\n",
    "\n",
    "print(\"Accuracy with TEST Data and K=1 :\", accuracy_k1_test)\n",
    "\n",
    "#k=13\n",
    "myClassifier = KNN(k=13, num_classes=2)\n",
    "myClassifier.train(train_data_x.values, train_data_y.values)\n",
    "accuracy_k13 = myClassifier.accuracy(test_data_x, test_data_y)\n",
    "print(\"Accuracy with TEST Data K=13 :\", accuracy_k13)"
   ]
  },
  {
   "cell_type": "markdown",
   "metadata": {},
   "source": [
    "##  Question 1C\n"
   ]
  },
  {
   "cell_type": "code",
   "execution_count": 111,
   "metadata": {},
   "outputs": [
    {
     "data": {
      "text/plain": [
       "<matplotlib.contour.QuadContourSet at 0x1a219de510>"
      ]
     },
     "execution_count": 111,
     "metadata": {},
     "output_type": "execute_result"
    },
    {
     "data": {
      "image/png": "[encoded data removed]",
      "text/plain": [
       "<Figure size 432x288 with 1 Axes>"
      ]
     },
     "metadata": {
      "needs_background": "light"
     },
     "output_type": "display_data"
    }
   ],
   "source": [
    "# Question 1C\n",
    "x_c = np.linspace(-1.5, 1.5, 270)\n",
    "y_c = x_c\n",
    "x_c, y_c = np.meshgrid(x_c, y_c)\n",
    "\n",
    "myClassifier = KNN(k=1, num_classes=2)\n",
    "myClassifier.train(train_data_x.values, train_data_y.values)\n",
    "predicted_y = myClassifier.predict(test_data_x.values)\n",
    "\n",
    "\n",
    "# plt.contour(x_c, y_c, pred_actual[:30])\n",
    "y_arr = np.array(predicted_y).T\n",
    "y_arr = np.array([y_arr] * y_arr.shape[0])\n",
    "\n",
    "plt.contour(x_c, y_c, y_arr)\n"
   ]
  },
  {
   "cell_type": "markdown",
   "metadata": {},
   "source": [
    "## Question 1D\n",
    "##### Try another data set."
   ]
  },
  {
   "cell_type": "code",
   "execution_count": 125,
   "metadata": {},
   "outputs": [
    {
     "data": {
      "image/png": "[encoded data removed]",
      "text/plain": [
       "<Figure size 432x288 with 1 Axes>"
      ]
     },
     "metadata": {
      "needs_background": "light"
     },
     "output_type": "display_data"
    }
   ],
   "source": [
    "# Question 1D\n",
    "#create a 900 point dataset with norm value of 1\n",
    "data = generate_dataset(900, 1)\n",
    "\n",
    "\n",
    "#Create dataframe from arrays\n",
    "data = pd.DataFrame(data, columns=['x1','x2', 'y'])\n",
    "data['y'] = data['y'].apply(lambda x: int(x))  #  convert the column to an int dtype\n",
    "\n",
    "# slice data in train_data and test_data (ration 70:30)\n",
    "train_data = data[:int(0.7*data_points)]\n",
    "test_data = data[-int(0.3*data_points):]\n",
    "\n",
    "#plot graph\n",
    "plot_dataset_graph(train_data,test_data )\n"
   ]
  },
  {
   "cell_type": "markdown",
   "metadata": {},
   "source": [
    "organize data\n"
   ]
  },
  {
   "cell_type": "code",
   "execution_count": 10,
   "metadata": {},
   "outputs": [],
   "source": [
    "#Question 1D\n",
    "#organize data\n",
    "\n",
    "train_data_x = train_data[['x1','x2']]\n",
    "train_data_y = train_data[['y']]\n",
    "\n",
    "test_data_x = test_data[['x1','x2']]\n",
    "test_data_y = test_data[['y']]\n"
   ]
  },
  {
   "cell_type": "markdown",
   "metadata": {},
   "source": [
    "### Using the implemented alogrithm with TRAIN DATA\n"
   ]
  },
  {
   "cell_type": "code",
   "execution_count": 15,
   "metadata": {},
   "outputs": [
    {
     "name": "stdout",
     "output_type": "stream",
     "text": [
      "Accuracy with K=1 : 100.0\n",
      "Accuracyon train data with K=13 : 97.93650793650794\n"
     ]
    }
   ],
   "source": [
    "#use the KNN classifier with train data\n",
    "\n",
    "myClassifier = KNN(k=1, num_classes=2)\n",
    "myClassifier.train(train_data_x.values, train_data_y.values)\n",
    "myClassifier.predict([(0,0), [-0.4,1.3]])\n",
    "\n",
    "accuracy_k1_train = myClassifier.accuracy(train_data_x, train_data_y)\n",
    "print(\"Accuracy with K=1 :\", accuracy_k1_train)\n",
    "\n",
    "#k=13\n",
    "myClassifier = KNN(k=13, num_classes=2)\n",
    "myClassifier.train(train_data_x.values, train_data_y.values)\n",
    "myClassifier.predict([(0,0), [-0.4,1.3]])\n",
    "\n",
    "accuracy_k13_train = myClassifier.accuracy(train_data_x, train_data_y)\n",
    "\n",
    "print(\"Accuracyon train data with K=13 :\", accuracy_k13_train)"
   ]
  },
  {
   "cell_type": "markdown",
   "metadata": {},
   "source": [
    "### Using the implemented alogrithm with TEST DATA\n"
   ]
  },
  {
   "cell_type": "code",
   "execution_count": 14,
   "metadata": {},
   "outputs": [
    {
     "name": "stdout",
     "output_type": "stream",
     "text": [
      "Accuracy with TEST Data and K=1 : 98.88888888888889\n",
      "Accuracy with TEST Data K=13 : 99.25925925925925\n"
     ]
    }
   ],
   "source": [
    "# Using the implemented alogrithm with TEST DATA\n",
    "\n",
    "myClassifier = KNN(k=1, num_classes=2)\n",
    "myClassifier.train(train_data_x.values, train_data_y.values)\n",
    "accuracy_k1_test = myClassifier.accuracy(test_data_x, test_data_y)\n",
    "\n",
    "print(\"Accuracy with TEST Data and K=1 :\", accuracy_k1_test)\n",
    "\n",
    "#k=13\n",
    "myClassifier = KNN(k=13, num_classes=2)\n",
    "myClassifier.train(train_data_x.values, train_data_y.values)\n",
    "accuracy_k13 = myClassifier.accuracy(test_data_x, test_data_y)\n",
    "print(\"Accuracy with TEST Data K=13 :\", accuracy_k13)"
   ]
  },
  {
   "cell_type": "markdown",
   "metadata": {},
   "source": [
    "# Trying Extreme value of k ( k = 100) on TEST data"
   ]
  },
  {
   "cell_type": "code",
   "execution_count": 16,
   "metadata": {},
   "outputs": [
    {
     "name": "stdout",
     "output_type": "stream",
     "text": [
      "Accuracy on Test Data with K=100 : 90.95238095238095\n"
     ]
    }
   ],
   "source": [
    "#k=13\n",
    "myClassifier = KNN(k=100, num_classes=2)\n",
    "myClassifier.train(train_data_x.values, train_data_y.values)\n",
    "myClassifier.predict([(0,0), [-0.4,1.3]])\n",
    "\n",
    "accuracy_k100_train = myClassifier.accuracy(train_data_x, train_data_y)\n",
    "\n",
    "print(\"Accuracy on Test Data with K=100 :\", accuracy_k100_train)"
   ]
  },
  {
   "cell_type": "markdown",
   "metadata": {},
   "source": [
    "### Remarks:\n",
    "### Generally, as the value of K incresases, the Accuracy decreases!!! **"
   ]
  },
  {
   "cell_type": "markdown",
   "metadata": {},
   "source": []
  },
  {
   "cell_type": "markdown",
   "metadata": {},
   "source": [
    "\n",
    "## Question 1E: Continue exploring data sets."
   ]
  },
  {
   "cell_type": "markdown",
   "metadata": {},
   "source": [
    "## create a 900 point dataset with norm value of 0.4"
   ]
  },
  {
   "cell_type": "code",
   "execution_count": 128,
   "metadata": {},
   "outputs": [
    {
     "data": {
      "image/png": "[encoded data removed]",
      "text/plain": [
       "<Figure size 432x288 with 1 Axes>"
      ]
     },
     "metadata": {
      "needs_background": "light"
     },
     "output_type": "display_data"
    }
   ],
   "source": [
    "# Question 1E\n",
    "#create a 900 point dataset with norm value of 0.4\n",
    "data_1e = generate_dataset(900, 0.4)\n",
    "\n",
    "#Create dataframe from arrays\n",
    "data_df = pd.DataFrame(data_1e, columns=['x1','x2', 'y'])\n",
    "data_df['y'] = data_df['y'].apply(lambda x: int(x))  #  convert the column to an int dtype\n",
    "\n",
    "# slice data in train_data and test_data (ratio 70:30)\n",
    "train_data = data_df[:int(0.7*data_points)]\n",
    "test_data = data_df[-int(0.3*data_points):]\n",
    "\n",
    "plot_dataset_graph(train_data,test_data )"
   ]
  },
  {
   "cell_type": "code",
   "execution_count": 19,
   "metadata": {},
   "outputs": [
    {
     "name": "stdout",
     "output_type": "stream",
     "text": [
      "Accuracy with TRAIN data and K=1 : 100.0\n",
      "Accuracy with TRAIN data and K=13 : 98.57142857142858\n"
     ]
    }
   ],
   "source": [
    "#organize data\n",
    "train_data_x = train_data[['x1','x2']]\n",
    "train_data_y = train_data[['y']]\n",
    "\n",
    "test_data_x = test_data[['x1','x2']]\n",
    "test_data_y = test_data[['y']]\n",
    "\n",
    "#use KNN classifier\n",
    "myClassifier = KNN(k=1, num_classes=2)\n",
    "myClassifier.train(train_data_x.values, train_data_y.values)\n",
    "\n",
    "accuracy_k1 = myClassifier.accuracy(train_data_x, train_data_y)\n",
    "print(\"Accuracy with TRAIN data and K=1 :\", accuracy_k1)\n",
    "\n",
    "#k=13\n",
    "myClassifier = KNN(k=13, num_classes=2)\n",
    "myClassifier.train(train_data_x.values, train_data_y.values)\n",
    "myClassifier.predict([(0,0), [-0.4,1.3]])\n",
    "\n",
    "accuracy_k13 = myClassifier.accuracy(train_data_x, train_data_y)\n",
    "\n",
    "print(\"Accuracy with TRAIN data and K=13 :\", accuracy_k13)"
   ]
  },
  {
   "cell_type": "code",
   "execution_count": 21,
   "metadata": {},
   "outputs": [
    {
     "name": "stdout",
     "output_type": "stream",
     "text": [
      "Accuracy with TEST data and  K=1 : 100.0\n",
      "Accuracy with TEST data and K=50 : 99.25925925925925\n"
     ]
    }
   ],
   "source": [
    "##use KNN classifier on TEST data\n",
    "#k=1\n",
    "myClassifier = KNN(k=1, num_classes=2)\n",
    "myClassifier.train(train_data_x.values, train_data_y.values)\n",
    "accuracy_k1 = myClassifier.accuracy(test_data_x, test_data_y)\n",
    "print(\"Accuracy with TEST data and  K=1 :\", accuracy_k1)\n",
    "\n",
    "#k=50\n",
    "myClassifier = KNN(k=50, num_classes=2)\n",
    "myClassifier.train(train_data_x.values, train_data_y.values)\n",
    "accuracy_k13 = myClassifier.accuracy(test_data_x, test_data_y)\n",
    "\n",
    "print(\"Accuracy with TEST data and K=50 :\", accuracy_k13)"
   ]
  },
  {
   "cell_type": "markdown",
   "metadata": {},
   "source": [
    "### As you can see above with a norm value of 0.4, and with k=50, the accuracy increases. \n",
    "### This tells us that the Euclidean distance for kNN is **NOT** always the best choice?"
   ]
  },
  {
   "cell_type": "code",
   "execution_count": null,
   "metadata": {},
   "outputs": [],
   "source": []
  },
  {
   "cell_type": "code",
   "execution_count": null,
   "metadata": {},
   "outputs": [],
   "source": []
  },
  {
   "cell_type": "markdown",
   "metadata": {},
   "source": [
    "# Question 2"
   ]
  },
  {
   "cell_type": "code",
   "execution_count": 22,
   "metadata": {},
   "outputs": [],
   "source": [
    "#  Helper functions\n",
    "#  Please use these functions to properly prepare the data before feeding into the \n",
    "#  KNN classifier!\n",
    "\n",
    "def prepare_test_set(data_frame, size):\n",
    "    \"\"\"\n",
    "    function to prepare the Test data from a dataframe\n",
    "    and separate it into X,and Y i.e test Data and Test labels\n",
    "    \n",
    "    X and Y are PYTHON LISTS types containing the image points and labels\n",
    "    returns: a tuple of (X and Y)\n",
    "    \"\"\"\n",
    "    y = np.array(data_frame['label']).reshape(-1,1)\n",
    "\n",
    "    x = mnist_test.drop(columns='label')\n",
    "    x = x.values\n",
    "    \n",
    "    x_size = [x[i] for i in range(size)]\n",
    "    y_size = [y[i][0] for i in range(size)]\n",
    "    \n",
    "    return (x_size, y_size)\n",
    "\n",
    "def prepare_train_set(data_frame, size):\n",
    "    \"\"\"\n",
    "    function to prepare the TRAIN data from a dataframe\n",
    "    and separate it into X,and Y i.e test Data and Test labels\n",
    "    \n",
    "    X and Y are NUMPY ARRAYS containing the image points and labels\n",
    "    returns: a tuple of (X and Y)\n",
    "    \"\"\"\n",
    "    x = np.array(data_frame.drop(columns='label'))\n",
    "    y = np.array(data_frame['label']).reshape(-1,1)\n",
    "    \n",
    "    x_size = x[:size, :]\n",
    "    y_size = y[:size,:]\n",
    "    \n",
    "    return (x_size, y_size)\n"
   ]
  },
  {
   "cell_type": "markdown",
   "metadata": {},
   "source": [
    "## Load Train and Test Data"
   ]
  },
  {
   "cell_type": "code",
   "execution_count": 23,
   "metadata": {},
   "outputs": [
    {
     "name": "stdout",
     "output_type": "stream",
     "text": [
      "Train and Test data loaded succesfully!\n"
     ]
    }
   ],
   "source": [
    "#load train data\n",
    "mnist_train = pd.read_csv('data/mnist_train.csv', header=None)\n",
    "mnist_train = mnist_train.rename(columns={0:'label'})\n",
    "\n",
    "#load test data\n",
    "mnist_test = pd.read_csv('data/mnist_test.csv', header=None)\n",
    "mnist_test = mnist_test.rename(columns={0:'label'})\n",
    "\n",
    "print(\"Train and Test data loaded succesfully!\")"
   ]
  },
  {
   "cell_type": "code",
   "execution_count": 25,
   "metadata": {},
   "outputs": [
    {
     "data": {
      "text/html": [
       "<div>\n",
       "<style scoped>\n",
       "    .dataframe tbody tr th:only-of-type {\n",
       "        vertical-align: middle;\n",
       "    }\n",
       "\n",
       "    .dataframe tbody tr th {\n",
       "        vertical-align: top;\n",
       "    }\n",
       "\n",
       "    .dataframe thead th {\n",
       "        text-align: right;\n",
       "    }\n",
       "</style>\n",
       "<table border=\"1\" class=\"dataframe\">\n",
       "  <thead>\n",
       "    <tr style=\"text-align: right;\">\n",
       "      <th></th>\n",
       "      <th>label</th>\n",
       "      <th>1</th>\n",
       "      <th>2</th>\n",
       "      <th>3</th>\n",
       "      <th>4</th>\n",
       "      <th>5</th>\n",
       "      <th>6</th>\n",
       "      <th>7</th>\n",
       "      <th>8</th>\n",
       "      <th>9</th>\n",
       "      <th>...</th>\n",
       "      <th>775</th>\n",
       "      <th>776</th>\n",
       "      <th>777</th>\n",
       "      <th>778</th>\n",
       "      <th>779</th>\n",
       "      <th>780</th>\n",
       "      <th>781</th>\n",
       "      <th>782</th>\n",
       "      <th>783</th>\n",
       "      <th>784</th>\n",
       "    </tr>\n",
       "  </thead>\n",
       "  <tbody>\n",
       "    <tr>\n",
       "      <td>0</td>\n",
       "      <td>5</td>\n",
       "      <td>0</td>\n",
       "      <td>0</td>\n",
       "      <td>0</td>\n",
       "      <td>0</td>\n",
       "      <td>0</td>\n",
       "      <td>0</td>\n",
       "      <td>0</td>\n",
       "      <td>0</td>\n",
       "      <td>0</td>\n",
       "      <td>...</td>\n",
       "      <td>0</td>\n",
       "      <td>0</td>\n",
       "      <td>0</td>\n",
       "      <td>0</td>\n",
       "      <td>0</td>\n",
       "      <td>0</td>\n",
       "      <td>0</td>\n",
       "      <td>0</td>\n",
       "      <td>0</td>\n",
       "      <td>0</td>\n",
       "    </tr>\n",
       "    <tr>\n",
       "      <td>1</td>\n",
       "      <td>0</td>\n",
       "      <td>0</td>\n",
       "      <td>0</td>\n",
       "      <td>0</td>\n",
       "      <td>0</td>\n",
       "      <td>0</td>\n",
       "      <td>0</td>\n",
       "      <td>0</td>\n",
       "      <td>0</td>\n",
       "      <td>0</td>\n",
       "      <td>...</td>\n",
       "      <td>0</td>\n",
       "      <td>0</td>\n",
       "      <td>0</td>\n",
       "      <td>0</td>\n",
       "      <td>0</td>\n",
       "      <td>0</td>\n",
       "      <td>0</td>\n",
       "      <td>0</td>\n",
       "      <td>0</td>\n",
       "      <td>0</td>\n",
       "    </tr>\n",
       "    <tr>\n",
       "      <td>2</td>\n",
       "      <td>4</td>\n",
       "      <td>0</td>\n",
       "      <td>0</td>\n",
       "      <td>0</td>\n",
       "      <td>0</td>\n",
       "      <td>0</td>\n",
       "      <td>0</td>\n",
       "      <td>0</td>\n",
       "      <td>0</td>\n",
       "      <td>0</td>\n",
       "      <td>...</td>\n",
       "      <td>0</td>\n",
       "      <td>0</td>\n",
       "      <td>0</td>\n",
       "      <td>0</td>\n",
       "      <td>0</td>\n",
       "      <td>0</td>\n",
       "      <td>0</td>\n",
       "      <td>0</td>\n",
       "      <td>0</td>\n",
       "      <td>0</td>\n",
       "    </tr>\n",
       "    <tr>\n",
       "      <td>3</td>\n",
       "      <td>1</td>\n",
       "      <td>0</td>\n",
       "      <td>0</td>\n",
       "      <td>0</td>\n",
       "      <td>0</td>\n",
       "      <td>0</td>\n",
       "      <td>0</td>\n",
       "      <td>0</td>\n",
       "      <td>0</td>\n",
       "      <td>0</td>\n",
       "      <td>...</td>\n",
       "      <td>0</td>\n",
       "      <td>0</td>\n",
       "      <td>0</td>\n",
       "      <td>0</td>\n",
       "      <td>0</td>\n",
       "      <td>0</td>\n",
       "      <td>0</td>\n",
       "      <td>0</td>\n",
       "      <td>0</td>\n",
       "      <td>0</td>\n",
       "    </tr>\n",
       "    <tr>\n",
       "      <td>4</td>\n",
       "      <td>9</td>\n",
       "      <td>0</td>\n",
       "      <td>0</td>\n",
       "      <td>0</td>\n",
       "      <td>0</td>\n",
       "      <td>0</td>\n",
       "      <td>0</td>\n",
       "      <td>0</td>\n",
       "      <td>0</td>\n",
       "      <td>0</td>\n",
       "      <td>...</td>\n",
       "      <td>0</td>\n",
       "      <td>0</td>\n",
       "      <td>0</td>\n",
       "      <td>0</td>\n",
       "      <td>0</td>\n",
       "      <td>0</td>\n",
       "      <td>0</td>\n",
       "      <td>0</td>\n",
       "      <td>0</td>\n",
       "      <td>0</td>\n",
       "    </tr>\n",
       "  </tbody>\n",
       "</table>\n",
       "<p>5 rows × 785 columns</p>\n",
       "</div>"
      ],
      "text/plain": [
       "   label  1  2  3  4  5  6  7  8  9  ...  775  776  777  778  779  780  781  \\\n",
       "0      5  0  0  0  0  0  0  0  0  0  ...    0    0    0    0    0    0    0   \n",
       "1      0  0  0  0  0  0  0  0  0  0  ...    0    0    0    0    0    0    0   \n",
       "2      4  0  0  0  0  0  0  0  0  0  ...    0    0    0    0    0    0    0   \n",
       "3      1  0  0  0  0  0  0  0  0  0  ...    0    0    0    0    0    0    0   \n",
       "4      9  0  0  0  0  0  0  0  0  0  ...    0    0    0    0    0    0    0   \n",
       "\n",
       "   782  783  784  \n",
       "0    0    0    0  \n",
       "1    0    0    0  \n",
       "2    0    0    0  \n",
       "3    0    0    0  \n",
       "4    0    0    0  \n",
       "\n",
       "[5 rows x 785 columns]"
      ]
     },
     "execution_count": 25,
     "metadata": {},
     "output_type": "execute_result"
    }
   ],
   "source": [
    "# view the Train dataframes\n",
    "mnist_train.head()\n"
   ]
  },
  {
   "cell_type": "code",
   "execution_count": 26,
   "metadata": {},
   "outputs": [
    {
     "data": {
      "text/html": [
       "<div>\n",
       "<style scoped>\n",
       "    .dataframe tbody tr th:only-of-type {\n",
       "        vertical-align: middle;\n",
       "    }\n",
       "\n",
       "    .dataframe tbody tr th {\n",
       "        vertical-align: top;\n",
       "    }\n",
       "\n",
       "    .dataframe thead th {\n",
       "        text-align: right;\n",
       "    }\n",
       "</style>\n",
       "<table border=\"1\" class=\"dataframe\">\n",
       "  <thead>\n",
       "    <tr style=\"text-align: right;\">\n",
       "      <th></th>\n",
       "      <th>label</th>\n",
       "      <th>1</th>\n",
       "      <th>2</th>\n",
       "      <th>3</th>\n",
       "      <th>4</th>\n",
       "      <th>5</th>\n",
       "      <th>6</th>\n",
       "      <th>7</th>\n",
       "      <th>8</th>\n",
       "      <th>9</th>\n",
       "      <th>...</th>\n",
       "      <th>775</th>\n",
       "      <th>776</th>\n",
       "      <th>777</th>\n",
       "      <th>778</th>\n",
       "      <th>779</th>\n",
       "      <th>780</th>\n",
       "      <th>781</th>\n",
       "      <th>782</th>\n",
       "      <th>783</th>\n",
       "      <th>784</th>\n",
       "    </tr>\n",
       "  </thead>\n",
       "  <tbody>\n",
       "    <tr>\n",
       "      <td>0</td>\n",
       "      <td>7</td>\n",
       "      <td>0</td>\n",
       "      <td>0</td>\n",
       "      <td>0</td>\n",
       "      <td>0</td>\n",
       "      <td>0</td>\n",
       "      <td>0</td>\n",
       "      <td>0</td>\n",
       "      <td>0</td>\n",
       "      <td>0</td>\n",
       "      <td>...</td>\n",
       "      <td>0</td>\n",
       "      <td>0</td>\n",
       "      <td>0</td>\n",
       "      <td>0</td>\n",
       "      <td>0</td>\n",
       "      <td>0</td>\n",
       "      <td>0</td>\n",
       "      <td>0</td>\n",
       "      <td>0</td>\n",
       "      <td>0</td>\n",
       "    </tr>\n",
       "    <tr>\n",
       "      <td>1</td>\n",
       "      <td>2</td>\n",
       "      <td>0</td>\n",
       "      <td>0</td>\n",
       "      <td>0</td>\n",
       "      <td>0</td>\n",
       "      <td>0</td>\n",
       "      <td>0</td>\n",
       "      <td>0</td>\n",
       "      <td>0</td>\n",
       "      <td>0</td>\n",
       "      <td>...</td>\n",
       "      <td>0</td>\n",
       "      <td>0</td>\n",
       "      <td>0</td>\n",
       "      <td>0</td>\n",
       "      <td>0</td>\n",
       "      <td>0</td>\n",
       "      <td>0</td>\n",
       "      <td>0</td>\n",
       "      <td>0</td>\n",
       "      <td>0</td>\n",
       "    </tr>\n",
       "    <tr>\n",
       "      <td>2</td>\n",
       "      <td>1</td>\n",
       "      <td>0</td>\n",
       "      <td>0</td>\n",
       "      <td>0</td>\n",
       "      <td>0</td>\n",
       "      <td>0</td>\n",
       "      <td>0</td>\n",
       "      <td>0</td>\n",
       "      <td>0</td>\n",
       "      <td>0</td>\n",
       "      <td>...</td>\n",
       "      <td>0</td>\n",
       "      <td>0</td>\n",
       "      <td>0</td>\n",
       "      <td>0</td>\n",
       "      <td>0</td>\n",
       "      <td>0</td>\n",
       "      <td>0</td>\n",
       "      <td>0</td>\n",
       "      <td>0</td>\n",
       "      <td>0</td>\n",
       "    </tr>\n",
       "    <tr>\n",
       "      <td>3</td>\n",
       "      <td>0</td>\n",
       "      <td>0</td>\n",
       "      <td>0</td>\n",
       "      <td>0</td>\n",
       "      <td>0</td>\n",
       "      <td>0</td>\n",
       "      <td>0</td>\n",
       "      <td>0</td>\n",
       "      <td>0</td>\n",
       "      <td>0</td>\n",
       "      <td>...</td>\n",
       "      <td>0</td>\n",
       "      <td>0</td>\n",
       "      <td>0</td>\n",
       "      <td>0</td>\n",
       "      <td>0</td>\n",
       "      <td>0</td>\n",
       "      <td>0</td>\n",
       "      <td>0</td>\n",
       "      <td>0</td>\n",
       "      <td>0</td>\n",
       "    </tr>\n",
       "    <tr>\n",
       "      <td>4</td>\n",
       "      <td>4</td>\n",
       "      <td>0</td>\n",
       "      <td>0</td>\n",
       "      <td>0</td>\n",
       "      <td>0</td>\n",
       "      <td>0</td>\n",
       "      <td>0</td>\n",
       "      <td>0</td>\n",
       "      <td>0</td>\n",
       "      <td>0</td>\n",
       "      <td>...</td>\n",
       "      <td>0</td>\n",
       "      <td>0</td>\n",
       "      <td>0</td>\n",
       "      <td>0</td>\n",
       "      <td>0</td>\n",
       "      <td>0</td>\n",
       "      <td>0</td>\n",
       "      <td>0</td>\n",
       "      <td>0</td>\n",
       "      <td>0</td>\n",
       "    </tr>\n",
       "  </tbody>\n",
       "</table>\n",
       "<p>5 rows × 785 columns</p>\n",
       "</div>"
      ],
      "text/plain": [
       "   label  1  2  3  4  5  6  7  8  9  ...  775  776  777  778  779  780  781  \\\n",
       "0      7  0  0  0  0  0  0  0  0  0  ...    0    0    0    0    0    0    0   \n",
       "1      2  0  0  0  0  0  0  0  0  0  ...    0    0    0    0    0    0    0   \n",
       "2      1  0  0  0  0  0  0  0  0  0  ...    0    0    0    0    0    0    0   \n",
       "3      0  0  0  0  0  0  0  0  0  0  ...    0    0    0    0    0    0    0   \n",
       "4      4  0  0  0  0  0  0  0  0  0  ...    0    0    0    0    0    0    0   \n",
       "\n",
       "   782  783  784  \n",
       "0    0    0    0  \n",
       "1    0    0    0  \n",
       "2    0    0    0  \n",
       "3    0    0    0  \n",
       "4    0    0    0  \n",
       "\n",
       "[5 rows x 785 columns]"
      ]
     },
     "execution_count": 26,
     "metadata": {},
     "output_type": "execute_result"
    }
   ],
   "source": [
    "# view the Test dataframes\n",
    "mnist_test.head()"
   ]
  },
  {
   "cell_type": "markdown",
   "metadata": {},
   "source": [
    "### Train Size and Test Size Variation.. Use this cell below to change your train size and test size anytime you wish to\n",
    "\n",
    "** Use logger=True when using the KNN classifier to see debug output and know the progress of the classifier ** "
   ]
  },
  {
   "cell_type": "code",
   "execution_count": 28,
   "metadata": {},
   "outputs": [],
   "source": [
    "train_size = 6000\n",
    "test_size = 500"
   ]
  },
  {
   "cell_type": "code",
   "execution_count": 29,
   "metadata": {},
   "outputs": [
    {
     "name": "stdout",
     "output_type": "stream",
     "text": [
      "Train data size ==>  (6000, 784)\n",
      "Train label size ==> (6000, 1)\n",
      "Test data size ==>  500\n",
      "Test label size ==> 500\n"
     ]
    }
   ],
   "source": [
    "# Prepare the Data\n",
    "\n",
    "X_train, Y_train = prepare_train_set(mnist_train, train_size)\n",
    "X_test, Y_test = prepare_test_set(mnist_test, test_size)\n",
    "\n",
    "\n",
    "print(\"Train data size ==> \", X_train.shape)\n",
    "print(\"Train label size ==>\", Y_train.shape)\n",
    "print(\"Test data size ==> \", len(X_test))\n",
    "print(\"Test label size ==>\", len(Y_test))\n"
   ]
  },
  {
   "cell_type": "code",
   "execution_count": 72,
   "metadata": {},
   "outputs": [
    {
     "name": "stdout",
     "output_type": "stream",
     "text": [
      "Training Size is:  10000\n",
      "Predict Size is:  100\n",
      "--- 20 of 100 --- --- 40 of 100 --- --- 60 of 100 --- --- 80 of 100 --- --- 100 of 100 --- Accuracy is: 92.0%\n",
      "DONE\n",
      "Accuracy on test set is:  92.0\n"
     ]
    }
   ],
   "source": [
    "myClassifier = KNN(k=1, num_classes=10, logger=True)\n",
    "myClassifier.train(X_train, Y_train)\n",
    "\n",
    "acc = myClassifier.accuracy(X_test, Y_test)\n",
    "\n",
    "print(\"Accuracy on test set is: \", acc)"
   ]
  },
  {
   "cell_type": "markdown",
   "metadata": {},
   "source": [
    "## Question 2A: Explore k values.\n",
    "\n",
    "Explore k values. Plot the classification accuracy on train and test sets by considering different\n",
    "values of k in the range of 1 to 100."
   ]
  },
  {
   "cell_type": "code",
   "execution_count": 129,
   "metadata": {},
   "outputs": [
    {
     "name": "stdout",
     "output_type": "stream",
     "text": [
      "Done Preparing Dataset! \n",
      "Training Size is:  10000\n",
      "Predict Size is:  100\n",
      "--- 20 of 100 --- --- 40 of 100 --- --- 60 of 100 --- --- 80 of 100 --- --- 100 of 100 --- Accuracy is: 92.0%\n",
      "DONE\n",
      "Training Size is:  10000\n",
      "Predict Size is:  100\n",
      "--- 20 of 100 --- --- 40 of 100 --- --- 60 of 100 --- --- 80 of 100 --- --- 100 of 100 --- Accuracy is: 95.0%\n",
      "DONE\n",
      "Training Size is:  10000\n",
      "Predict Size is:  100\n",
      "--- 20 of 100 --- --- 40 of 100 --- --- 60 of 100 --- --- 80 of 100 --- --- 100 of 100 --- Accuracy is: 96.0%\n",
      "DONE\n",
      "Training Size is:  10000\n",
      "Predict Size is:  100\n",
      "--- 20 of 100 --- --- 40 of 100 --- --- 60 of 100 --- --- 80 of 100 --- --- 100 of 100 --- Accuracy is: 96.0%\n",
      "DONE\n",
      "Training Size is:  10000\n",
      "Predict Size is:  100\n",
      "--- 20 of 100 --- --- 40 of 100 --- --- 60 of 100 --- --- 80 of 100 --- --- 100 of 100 --- Accuracy is: 92.0%\n",
      "DONE\n",
      "Training Size is:  10000\n",
      "Predict Size is:  100\n",
      "--- 20 of 100 --- --- 40 of 100 --- --- 60 of 100 --- --- 80 of 100 --- --- 100 of 100 --- Accuracy is: 89.0%\n",
      "DONE\n",
      "Training Size is:  10000\n",
      "Predict Size is:  100\n",
      "--- 20 of 100 --- --- 40 of 100 --- --- 60 of 100 --- --- 80 of 100 --- --- 100 of 100 --- Accuracy is: 89.0%\n",
      "DONE\n",
      "Training Size is:  10000\n",
      "Predict Size is:  100\n",
      "--- 20 of 100 --- --- 40 of 100 --- --- 60 of 100 --- --- 80 of 100 --- --- 100 of 100 --- Accuracy is: 89.0%\n",
      "DONE\n",
      "done\n"
     ]
    }
   ],
   "source": [
    "#Question 1A\n",
    "krange = [1, 5, 10, 20, 40, 80, 90, 100]\n",
    "train_size = 10000\n",
    "test_size = 100\n",
    "\n",
    "X_train, Y_train = prepare_train_set(mnist_train, train_size)\n",
    "X_test, Y_test = prepare_test_set(mnist_test, test_size)\n",
    "\n",
    "print(\"Done Preparing Dataset! \")\n",
    "\n",
    "lst = []\n",
    "for k in krange:\n",
    "    myClassifier = KNN(k=k, num_classes=10, logger=True)\n",
    "    myClassifier.train(X_train, Y_train)\n",
    "    acc = myClassifier.accuracy(X_test, Y_test)\n",
    "    lst.append((k, acc))\n",
    "\n",
    "print(\"done\")"
   ]
  },
  {
   "cell_type": "code",
   "execution_count": 130,
   "metadata": {},
   "outputs": [
    {
     "data": {
      "text/plain": [
       "Text(0, 0.5, 'Accuracy')"
      ]
     },
     "execution_count": 130,
     "metadata": {},
     "output_type": "execute_result"
    },
    {
     "data": {
      "image/png": "[encoded data removed]",
      "text/plain": [
       "<Figure size 720x432 with 1 Axes>"
      ]
     },
     "metadata": {
      "needs_background": "light"
     },
     "output_type": "display_data"
    }
   ],
   "source": [
    "# Question 1a\n",
    "lst\n",
    "x, y = zip(*lst)\n",
    "plt.figure(figsize=(10,6))\n",
    "plt.plot(x,y,color='blue', linestyle='dashed', marker='o', markerfacecolor='red', markersize=10)\n",
    "plt.title('Accuracy vs. K Value')\n",
    "plt.xlabel('K')\n",
    "plt.ylabel('Accuracy')"
   ]
  },
  {
   "cell_type": "markdown",
   "metadata": {},
   "source": [
    "## Question 2B: Explore data set size."
   ]
  },
  {
   "cell_type": "code",
   "execution_count": 74,
   "metadata": {},
   "outputs": [
    {
     "name": "stdout",
     "output_type": "stream",
     "text": [
      "Done Preparing Dataset! \n",
      "Training Size is:  100\n",
      "Predict Size is:  200\n",
      "--- 20 of 200 --- --- 40 of 200 --- --- 60 of 200 --- --- 80 of 200 --- --- 100 of 200 --- --- 120 of 200 --- --- 140 of 200 --- --- 160 of 200 --- --- 180 of 200 --- --- 200 of 200 --- Accuracy is: 51.5%\n",
      "DONE\n",
      "Training Size is:  200\n",
      "Predict Size is:  200\n",
      "--- 20 of 200 --- --- 40 of 200 --- --- 60 of 200 --- --- 80 of 200 --- --- 100 of 200 --- --- 120 of 200 --- --- 140 of 200 --- --- 160 of 200 --- --- 180 of 200 --- --- 200 of 200 --- Accuracy is: 59.0%\n",
      "DONE\n",
      "Training Size is:  400\n",
      "Predict Size is:  200\n",
      "--- 20 of 200 --- --- 40 of 200 --- --- 60 of 200 --- --- 80 of 200 --- --- 100 of 200 --- --- 120 of 200 --- --- 140 of 200 --- --- 160 of 200 --- --- 180 of 200 --- --- 200 of 200 --- Accuracy is: 70.5%\n",
      "DONE\n",
      "Training Size is:  600\n",
      "Predict Size is:  200\n",
      "--- 20 of 200 --- --- 40 of 200 --- --- 60 of 200 --- --- 80 of 200 --- --- 100 of 200 --- --- 120 of 200 --- --- 140 of 200 --- --- 160 of 200 --- --- 180 of 200 --- --- 200 of 200 --- Accuracy is: 78.0%\n",
      "DONE\n",
      "Training Size is:  500\n",
      "Predict Size is:  200\n",
      "--- 20 of 200 --- --- 40 of 200 --- --- 60 of 200 --- --- 80 of 200 --- --- 100 of 200 --- --- 120 of 200 --- --- 140 of 200 --- --- 160 of 200 --- --- 180 of 200 --- --- 200 of 200 --- Accuracy is: 74.5%\n",
      "DONE\n",
      "Training Size is:  1000\n",
      "Predict Size is:  200\n",
      "--- 20 of 200 --- --- 40 of 200 --- --- 60 of 200 --- --- 80 of 200 --- --- 100 of 200 --- --- 120 of 200 --- --- 140 of 200 --- --- 160 of 200 --- --- 180 of 200 --- --- 200 of 200 --- Accuracy is: 81.0%\n",
      "DONE\n",
      "Training Size is:  10000\n",
      "Predict Size is:  200\n",
      "--- 20 of 200 --- --- 40 of 200 --- --- 60 of 200 --- --- 80 of 200 --- --- 100 of 200 --- --- 120 of 200 --- --- 140 of 200 --- --- 160 of 200 --- --- 180 of 200 --- --- 200 of 200 --- Accuracy is: 94.5%\n",
      "DONE\n",
      "Training Size is:  30000\n",
      "Predict Size is:  200\n",
      "--- 20 of 200 --- --- 40 of 200 --- --- 60 of 200 --- --- 80 of 200 --- --- 100 of 200 --- --- 120 of 200 --- --- 140 of 200 --- --- 160 of 200 --- --- 180 of 200 --- --- 200 of 200 --- Accuracy is: 96.5%\n",
      "DONE\n",
      "Training Size is:  60000\n",
      "Predict Size is:  200\n",
      "--- 20 of 200 --- --- 40 of 200 --- --- 60 of 200 --- --- 80 of 200 --- --- 100 of 200 --- --- 120 of 200 --- --- 140 of 200 --- --- 160 of 200 --- --- 180 of 200 --- --- 200 of 200 --- Accuracy is: 97.0%\n",
      "DONE\n"
     ]
    }
   ],
   "source": [
    "# Question 1B\n",
    "\n",
    "train_samples = [100, 200, 400, 600, 500, 1000, 10000, 30000, 60000]\n",
    "test_size = 200\n",
    "k = 20\n",
    "\n",
    "X_test, Y_test = prepare_test_set(mnist_test, test_size)\n",
    "\n",
    "print(\"Done Preparing Dataset! \")\n",
    "\n",
    "lst_1b = []\n",
    "for sample in train_samples:\n",
    "    \n",
    "    X_train, Y_train = prepare_train_set(mnist_train, sample)   \n",
    "    myClassifier = KNN(k=k, num_classes=10, logger=True)\n",
    "    myClassifier.train(X_train, Y_train)\n",
    "    acc = myClassifier.accuracy(X_test, Y_test)\n",
    "    lst_1b.append((sample, acc))\n"
   ]
  },
  {
   "cell_type": "code",
   "execution_count": 75,
   "metadata": {},
   "outputs": [
    {
     "data": {
      "text/plain": [
       "Text(0, 0.5, 'Accuracy')"
      ]
     },
     "execution_count": 75,
     "metadata": {},
     "output_type": "execute_result"
    },
    {
     "data": {
      "image/png": "[encoded data removed]",
      "text/plain": [
       "<Figure size 720x432 with 1 Axes>"
      ]
     },
     "metadata": {
      "needs_background": "light"
     },
     "output_type": "display_data"
    }
   ],
   "source": [
    "sample, acc = zip(*lst_1b)\n",
    "\n",
    "plt.figure(figsize=(10,6))\n",
    "plt.plot(sample, acc, color='blue', linestyle='dashed', marker='o', markerfacecolor='red', markersize=10)\n",
    "plt.title('Accuracy vs Train Size')\n",
    "plt.xlabel('Train Size')\n",
    "plt.ylabel('Accuracy')"
   ]
  },
  {
   "cell_type": "markdown",
   "metadata": {},
   "source": [
    "### Remarks:  The greater the dataset size the greater the Accuracy!"
   ]
  },
  {
   "cell_type": "code",
   "execution_count": null,
   "metadata": {},
   "outputs": [],
   "source": []
  },
  {
   "cell_type": "code",
   "execution_count": null,
   "metadata": {},
   "outputs": [],
   "source": []
  },
  {
   "cell_type": "markdown",
   "metadata": {},
   "source": [
    "# Question 3: The Curse of Dimensionality"
   ]
  },
  {
   "cell_type": "markdown",
   "metadata": {},
   "source": [
    "#### Question 3A: Computing expectation in 2D.\n",
    "Take two continuous random variables, X and Y , sampled\n",
    "from a uniform distribution over the interval [0, 1]. Let Z be the squared Euclidean distance, defined by\n",
    "Z = (X − Y )2 .   \n",
    "\n",
    "Compute E[Z] and Var[Z] (this will require integration, which you can compute numericallyusing scipy.integrate.dblquad). Explain the integrals that you are computing."
   ]
  },
  {
   "cell_type": "code",
   "execution_count": 115,
   "metadata": {},
   "outputs": [
    {
     "data": {
      "text/plain": [
       "0.16666666666666666"
      ]
     },
     "execution_count": 115,
     "metadata": {},
     "output_type": "execute_result"
    }
   ],
   "source": [
    "from scipy import integrate\n",
    "\n",
    "# X has range [0,1] and density function f(x) = 1\n",
    "# y has range [0,1] and density function f(x) = 1\n",
    "\n",
    "# E_Z = Expectation of EZ\n",
    "\n",
    "f_xy = lambda x, y: (x-y)**2\n",
    "\n",
    "E_Z = integrate.dblquad(f_xy, 0, 1, lambda x: 0, lambda x: 1)[0]\n",
    "E_Z"
   ]
  },
  {
   "cell_type": "code",
   "execution_count": 116,
   "metadata": {},
   "outputs": [],
   "source": [
    "#VAR_Z = E(Z2) − E(Z)\n",
    "\n",
    "f_xy_2 = lambda x, y: ((x-y)**2)**2\n",
    "E_Z2 = integrate.dblquad(f_xy_2, 0, 1, lambda x: 0, lambda x: 1)[0]\n",
    "\n",
    "VAR_Z = E_Z2 - E_Z**2"
   ]
  },
  {
   "cell_type": "code",
   "execution_count": 133,
   "metadata": {},
   "outputs": [
    {
     "data": {
      "text/plain": [
       "0.0388888888888889"
      ]
     },
     "execution_count": 133,
     "metadata": {},
     "output_type": "execute_result"
    }
   ],
   "source": [
    "VAR_Z"
   ]
  },
  {
   "cell_type": "markdown",
   "metadata": {},
   "source": [
    "#### Question 3B: Computing expectation in n-D.\n",
    "Take two continuous random variables, X and Y ,\n",
    "sampled from a uniform distribution over the unit cube in d dimensions. That is, if X = (X1, X2, . . . , Xd)\n",
    "then each Xi is uniformly sampled from [0, 1], independently from each other. The squared Euclidean distance can be written as R = Z1+Z2+· · ·+Zd, where Zi = (Xi−Yi)2  \n",
    "\n",
    "Compute E[R] and Var[R]. You can write your\n",
    "answers in terms of d, E[Z], and Var[Z]. Again, you may explore this question empirically/numerically."
   ]
  },
  {
   "cell_type": "code",
   "execution_count": 132,
   "metadata": {},
   "outputs": [],
   "source": [
    "def e_distance(x,y):\n",
    "    \"\"\"\n",
    "    X = Matrix or vector\n",
    "    Y = Matrix or vector\n",
    "    \"\"\"\n",
    "    return sum((x-y)**2)\n",
    "\n",
    "d = 2\n",
    "# integrate.dblquad(e_distance, 0, 1, lambda x: 0, lambda x: 1)\n",
    "\n",
    "    \n",
    "    "
   ]
  },
  {
   "cell_type": "code",
   "execution_count": null,
   "metadata": {},
   "outputs": [],
   "source": []
  },
  {
   "cell_type": "code",
   "execution_count": null,
   "metadata": {},
   "outputs": [],
   "source": []
  },
  {
   "cell_type": "code",
   "execution_count": null,
   "metadata": {},
   "outputs": [],
   "source": []
  },
  {
   "cell_type": "code",
   "execution_count": null,
   "metadata": {},
   "outputs": [],
   "source": []
  },
  {
   "cell_type": "markdown",
   "metadata": {},
   "source": [
    "# Question 4"
   ]
  },
  {
   "cell_type": "code",
   "execution_count": 36,
   "metadata": {},
   "outputs": [],
   "source": [
    "import random\n",
    "import numpy as np\n",
    "import pandas as pd\n",
    "import matplotlib.pyplot as pp\n",
    "from sklearn.tree import DecisionTreeClassifier\n",
    "from sklearn.metrics import classification_report, accuracy_score\n",
    "from sklearn import tree\n",
    "\n",
    "%matplotlib inline"
   ]
  },
  {
   "cell_type": "code",
   "execution_count": 37,
   "metadata": {},
   "outputs": [],
   "source": [
    "#Helper functions from Question 1\n",
    "\n",
    "def generate_dataset(data_points, norm_value):\n",
    "    \"\"\"\n",
    "    Function to degenerate a dataset giiven number of datapoints and Norm Value\n",
    "    data_points: number of datapoints \n",
    "    norm_value: the norm to use to create the datapoint\n",
    "    \n",
    "    returns an array \n",
    "    \"\"\"\n",
    "    x_coord = np.linspace(-1.5,1.5,30)\n",
    "    y_coord = np.linspace(-1.5,1.5,30)\n",
    "\n",
    "    x_coord_r = np.array(list(map(lambda x: round(x,1), x_coord)))\n",
    "    y_coord_r = np.array(list(map(lambda x: round(x,1), y_coord)))\n",
    "\n",
    "    x_list = [(random.choice(x_coord_r), random.choice(y_coord_r)) for i in range(data_points)]\n",
    "    y_list = [1 if np.linalg.norm(point, norm_value) <= 1 else 2  for point in x_list]\n",
    "\n",
    "    # create arrays\n",
    "    data_x = np.array(x_list)\n",
    "    data_y = np.array(y_list).reshape(data_points,1)\n",
    "    data = np.concatenate((data_x, data_y), axis=1)\n",
    "    \n",
    "    return data\n",
    "\n",
    "def split_test_train(dataframe, train_ratio, data_points):\n",
    "    \"\"\"\n",
    "    function split data points into a ratio \n",
    "    data: Pandas dataFrame of data points\n",
    "    train_ratio: ratio of train data between 0 and 1\n",
    "    \"\"\"\n",
    "    if not 0 < train_ratio < 1:\n",
    "        raise ValueError(\"Train ratio must be between 0 and 1\")\n",
    "    \n",
    "    test_ratio = 1 - train_ratio\n",
    "    \n",
    "    # slice data in train_data and test_data (ration 70:30)\n",
    "    train = dataframe[:int(train_ratio*data_points)]\n",
    "    test = dataframe[-int(test_ratio*data_points):]\n",
    "\n",
    "    #separate into X_train and Y_train i.e. data and label\n",
    "    x_train = train.drop(columns='y')\n",
    "    y_train = train[['y']]\n",
    "\n",
    "    x_test = test.drop(columns='y')\n",
    "    y_test = test[['y']]\n",
    "    \n",
    "    return (x_train, y_train, x_test, y_test )\n",
    "\n",
    "\n",
    "def plot_dataset_graph(train_data, test_data):\n",
    "    \"\"\"\n",
    "    Function to plot a graph giving the train data and test data\n",
    "    \n",
    "    return: None \n",
    "    \"\"\"\n",
    "    #Separate the data based on their classes\n",
    "    class1_train = train_data[train_data['y']==1]\n",
    "    class2_train = train_data[train_data['y']==2]\n",
    "\n",
    "    #check that the classes add up \n",
    "    assert len(class1_train) + len(class2_train) == len(train_data)\n",
    "\n",
    "    #Graph Plotting\n",
    "    # sns.scatterplot(x='x1', y='x2', hue='y', data=train_data)\n",
    "    fig=plt.figure()\n",
    "    ax=fig.add_axes([0,0,1,1])\n",
    "\n",
    "    a =ax.scatter(class1_train['x1'], class1_train['x2'],  color='r')\n",
    "    b = ax.scatter(class2_train['x1'], class2_train['x2'],  color='b')\n",
    "    c = ax.scatter(test_data['x1'], test_data['x2'],  color='g')\n",
    "\n",
    "    ax.set_xlabel('x1')\n",
    "    ax.set_ylabel('x2')\n",
    "    ax.set_title('Graph of X1 vs X2')\n",
    "    ax.legend([a,b,c],['class1','class2','class3'], loc='upper left')\n",
    "    \n",
    "    return None"
   ]
  },
  {
   "cell_type": "markdown",
   "metadata": {},
   "source": [
    "# Question 4A\n",
    "woring with datasets from question 1 and running DecisionTree alogorithm on the datapoints"
   ]
  },
  {
   "cell_type": "markdown",
   "metadata": {},
   "source": [
    "### create a 900 point dataset with norm value of 1\n"
   ]
  },
  {
   "cell_type": "code",
   "execution_count": 38,
   "metadata": {},
   "outputs": [],
   "source": [
    "#create a 900 point dataset with norm value of 1\n",
    "data_points = 900\n",
    "\n",
    "d1 = generate_dataset(data_points=900, norm_value=1)\n",
    "\n",
    "#Create dataframe from arrays\n",
    "d1 = pd.DataFrame(d1, columns=['x1','x2', 'y'])\n",
    "d1['y'] = d1['y'].apply(lambda x: int(x))  #  convert the column to an int dtype\n",
    "\n",
    "x_train, y_train, x_test, y_test = split_test_train(d1, 0.7, data_points)"
   ]
  },
  {
   "cell_type": "code",
   "execution_count": 39,
   "metadata": {},
   "outputs": [
    {
     "data": {
      "text/plain": [
       "DecisionTreeClassifier(class_weight=None, criterion='gini', max_depth=None,\n",
       "                       max_features=None, max_leaf_nodes=None,\n",
       "                       min_impurity_decrease=0.0, min_impurity_split=None,\n",
       "                       min_samples_leaf=1, min_samples_split=2,\n",
       "                       min_weight_fraction_leaf=0.0, presort=False,\n",
       "                       random_state=None, splitter='best')"
      ]
     },
     "execution_count": 39,
     "metadata": {},
     "output_type": "execute_result"
    }
   ],
   "source": [
    "dtree = DecisionTreeClassifier()\n",
    "dtree.fit(x_train, y_train)"
   ]
  },
  {
   "cell_type": "code",
   "execution_count": 40,
   "metadata": {},
   "outputs": [
    {
     "name": "stdout",
     "output_type": "stream",
     "text": [
      "              precision    recall  f1-score   support\n",
      "\n",
      "           1       0.97      0.94      0.95        62\n",
      "           2       0.98      0.99      0.99       208\n",
      "\n",
      "    accuracy                           0.98       270\n",
      "   macro avg       0.97      0.96      0.97       270\n",
      "weighted avg       0.98      0.98      0.98       270\n",
      "\n"
     ]
    }
   ],
   "source": [
    "predictions = dtree.predict(x_test)\n",
    "print(classification_report(y_test, predictions))"
   ]
  },
  {
   "cell_type": "code",
   "execution_count": 41,
   "metadata": {},
   "outputs": [
    {
     "name": "stdout",
     "output_type": "stream",
     "text": [
      "97.78\n"
     ]
    }
   ],
   "source": [
    "accuracy_100 = accuracy_score(y_test, predictions) *100\n",
    "print(round(accuracy_100,2))"
   ]
  },
  {
   "cell_type": "markdown",
   "metadata": {},
   "source": [
    "### create a 900 point dataset with norm value of 2\n"
   ]
  },
  {
   "cell_type": "code",
   "execution_count": 42,
   "metadata": {},
   "outputs": [],
   "source": [
    "#create a 900 point dataset with norm value of 2\n",
    "data_points = 900\n",
    "\n",
    "d2 = generate_dataset(data_points=900, norm_value=2)\n",
    "\n",
    "#Create dataframe from arrays\n",
    "d2 = pd.DataFrame(d2, columns=['x1','x2', 'y'])\n",
    "d2['y'] = d2['y'].apply(lambda x: int(x))  #  convert the column to an int dtype\n",
    "\n",
    "\n",
    "x_train, y_train, x_test, y_test = split_test_train(d1, 0.7, data_points)    "
   ]
  },
  {
   "cell_type": "code",
   "execution_count": 43,
   "metadata": {},
   "outputs": [
    {
     "data": {
      "text/plain": [
       "DecisionTreeClassifier(class_weight=None, criterion='gini', max_depth=None,\n",
       "                       max_features=None, max_leaf_nodes=None,\n",
       "                       min_impurity_decrease=0.0, min_impurity_split=None,\n",
       "                       min_samples_leaf=1, min_samples_split=2,\n",
       "                       min_weight_fraction_leaf=0.0, presort=False,\n",
       "                       random_state=None, splitter='best')"
      ]
     },
     "execution_count": 43,
     "metadata": {},
     "output_type": "execute_result"
    }
   ],
   "source": [
    "dtree = DecisionTreeClassifier()\n",
    "dtree.fit(x_train, y_train)"
   ]
  },
  {
   "cell_type": "code",
   "execution_count": 44,
   "metadata": {},
   "outputs": [
    {
     "name": "stdout",
     "output_type": "stream",
     "text": [
      "              precision    recall  f1-score   support\n",
      "\n",
      "           1       0.97      0.94      0.95        62\n",
      "           2       0.98      0.99      0.99       208\n",
      "\n",
      "    accuracy                           0.98       270\n",
      "   macro avg       0.97      0.96      0.97       270\n",
      "weighted avg       0.98      0.98      0.98       270\n",
      "\n"
     ]
    }
   ],
   "source": [
    "predictions = dtree.predict(x_test)\n",
    "print(classification_report(y_test, predictions))"
   ]
  },
  {
   "cell_type": "code",
   "execution_count": 45,
   "metadata": {},
   "outputs": [
    {
     "name": "stdout",
     "output_type": "stream",
     "text": [
      "97.78\n"
     ]
    }
   ],
   "source": [
    "accuracy_100 = accuracy_score(y_test, predictions) *100\n",
    "print(round(accuracy_100,2))"
   ]
  },
  {
   "cell_type": "markdown",
   "metadata": {},
   "source": [
    "### create a 900 point dataset with norm value of 0.5 \n"
   ]
  },
  {
   "cell_type": "code",
   "execution_count": 46,
   "metadata": {},
   "outputs": [],
   "source": [
    "#create a 900 point dataset with norm value of 0.5\n",
    "data_points = 900\n",
    "\n",
    "d1 = generate_dataset(data_points=900, norm_value=1)\n",
    "\n",
    "#Create dataframe from arrays\n",
    "d1 = pd.DataFrame(d1, columns=['x1','x2', 'y'])\n",
    "d1['y'] = d1['y'].apply(lambda x: int(x))  #  convert the column to an int dtype\n",
    "\n",
    "x_train, y_train, x_test, y_test = split_test_train(d1, 0.7, data_points)"
   ]
  },
  {
   "cell_type": "code",
   "execution_count": 47,
   "metadata": {},
   "outputs": [
    {
     "data": {
      "text/plain": [
       "DecisionTreeClassifier(class_weight=None, criterion='gini', max_depth=None,\n",
       "                       max_features=None, max_leaf_nodes=None,\n",
       "                       min_impurity_decrease=0.0, min_impurity_split=None,\n",
       "                       min_samples_leaf=1, min_samples_split=2,\n",
       "                       min_weight_fraction_leaf=0.0, presort=False,\n",
       "                       random_state=None, splitter='best')"
      ]
     },
     "execution_count": 47,
     "metadata": {},
     "output_type": "execute_result"
    }
   ],
   "source": [
    "dtree = DecisionTreeClassifier()\n",
    "dtree.fit(x_train, y_train)"
   ]
  },
  {
   "cell_type": "code",
   "execution_count": 48,
   "metadata": {},
   "outputs": [
    {
     "name": "stdout",
     "output_type": "stream",
     "text": [
      "              precision    recall  f1-score   support\n",
      "\n",
      "           1       0.95      0.94      0.95        65\n",
      "           2       0.98      0.99      0.98       205\n",
      "\n",
      "    accuracy                           0.97       270\n",
      "   macro avg       0.97      0.96      0.96       270\n",
      "weighted avg       0.97      0.97      0.97       270\n",
      "\n"
     ]
    }
   ],
   "source": [
    "predictions = dtree.predict(x_test)\n",
    "print(classification_report(y_test, predictions))"
   ]
  },
  {
   "cell_type": "code",
   "execution_count": 49,
   "metadata": {},
   "outputs": [
    {
     "name": "stdout",
     "output_type": "stream",
     "text": [
      "97.41\n"
     ]
    }
   ],
   "source": [
    "accuracy_100 = accuracy_score(y_test, predictions) *100\n",
    "print(round(accuracy_100,2))"
   ]
  },
  {
   "cell_type": "markdown",
   "metadata": {},
   "source": [
    "### create a 900 point dataset with norm value of 0.1\n"
   ]
  },
  {
   "cell_type": "code",
   "execution_count": 50,
   "metadata": {},
   "outputs": [],
   "source": [
    "#create a 900 point dataset with norm value of 0.1\n",
    "data_points = 900\n",
    "\n",
    "d1 = generate_dataset(data_points=900, norm_value=1)\n",
    "\n",
    "#Create dataframe from arrays\n",
    "d1 = pd.DataFrame(d1, columns=['x1','x2', 'y'])\n",
    "d1['y'] = d1['y'].apply(lambda x: int(x))  #  convert the column to an int dtype\n",
    "\n",
    "x_train, y_train, x_test, y_test = split_test_train(d1, 0.7, data_points)"
   ]
  },
  {
   "cell_type": "code",
   "execution_count": 51,
   "metadata": {},
   "outputs": [
    {
     "data": {
      "text/plain": [
       "DecisionTreeClassifier(class_weight=None, criterion='gini', max_depth=None,\n",
       "                       max_features=None, max_leaf_nodes=None,\n",
       "                       min_impurity_decrease=0.0, min_impurity_split=None,\n",
       "                       min_samples_leaf=1, min_samples_split=2,\n",
       "                       min_weight_fraction_leaf=0.0, presort=False,\n",
       "                       random_state=None, splitter='best')"
      ]
     },
     "execution_count": 51,
     "metadata": {},
     "output_type": "execute_result"
    }
   ],
   "source": [
    "dtree = DecisionTreeClassifier()\n",
    "dtree.fit(x_train, y_train)"
   ]
  },
  {
   "cell_type": "code",
   "execution_count": 52,
   "metadata": {},
   "outputs": [
    {
     "name": "stdout",
     "output_type": "stream",
     "text": [
      "              precision    recall  f1-score   support\n",
      "\n",
      "           1       0.89      0.93      0.91        44\n",
      "           2       0.99      0.98      0.98       226\n",
      "\n",
      "    accuracy                           0.97       270\n",
      "   macro avg       0.94      0.95      0.95       270\n",
      "weighted avg       0.97      0.97      0.97       270\n",
      "\n"
     ]
    }
   ],
   "source": [
    "predictions = dtree.predict(x_test)\n",
    "print(classification_report(y_test, predictions))"
   ]
  },
  {
   "cell_type": "code",
   "execution_count": 53,
   "metadata": {},
   "outputs": [
    {
     "name": "stdout",
     "output_type": "stream",
     "text": [
      "97.04\n"
     ]
    }
   ],
   "source": [
    "accuracy_100 = accuracy_score(y_test, predictions) *100\n",
    "print(round(accuracy_100,2))"
   ]
  },
  {
   "cell_type": "markdown",
   "metadata": {},
   "source": [
    "# Question 4B\n",
    "Write code (not using built-in sklearn functionality) to split MNIST the training set to get a validation\n",
    "set. Then, using sklearn’s built-in DecisionTreeClassifier, write a function which tries 4-6 different\n",
    "values for max depth and both information gain and Gini coefficient split criteria, and outputs the accuracies\n",
    "on the train, on the validation, and on the test sets.  \n",
    "\n",
    "What would be the meta-parameter settings that you\n",
    "would normally choose? Note that usually you would not run the classifier on the test set! This is simply a\n",
    "chance to experiment with (i.e. take a peek at) how the performance on the test set would change.  \n",
    "\n",
    "Briefly summarize your observations, making sure to include clear description of any other meta-parameter choices\n",
    "that you made."
   ]
  },
  {
   "cell_type": "code",
   "execution_count": 55,
   "metadata": {},
   "outputs": [],
   "source": [
    "def split_crossval_train(x, y, train_ratio):\n",
    "    \"\"\"\n",
    "    function split data points into a ratio \n",
    "    x: train data\n",
    "    y: train labels\n",
    "    train_ratio: ratio of train data between 0 and 1\n",
    "    \n",
    "    returns a tuple (x_train, y_train, x_test, y_test)\n",
    "    \"\"\"\n",
    "    if not 0 < train_ratio < 1:\n",
    "        raise ValueError(\"Train ratio must be between 0 and 1\")\n",
    "    \n",
    "    if len(x) != len(y):\n",
    "        raise ValueError(\"Train sets must have equal rows\")\n",
    "    \n",
    "    test_ratio = 1 - train_ratio\n",
    "    size = len(x)\n",
    "    \n",
    "    # slice data in train_data and test_data \n",
    "    x_train = x[:int(train_ratio*size)]\n",
    "    x_test = x[-int(test_ratio*size):]\n",
    "    \n",
    "    y_train = y[:int(train_ratio*size)]\n",
    "    y_test = y[-int(test_ratio*size):]\n",
    "    \n",
    "    return (x_train, y_train, x_test, y_test )"
   ]
  },
  {
   "cell_type": "code",
   "execution_count": null,
   "metadata": {},
   "outputs": [],
   "source": []
  },
  {
   "cell_type": "code",
   "execution_count": 56,
   "metadata": {},
   "outputs": [
    {
     "name": "stdout",
     "output_type": "stream",
     "text": [
      "Train and Test data loaded succesfully!\n"
     ]
    }
   ],
   "source": [
    "#load train data\n",
    "mnist_train = pd.read_csv('data/mnist_train.csv', header=None)\n",
    "mnist_train = mnist_train.rename(columns={0:'label'})\n",
    "\n",
    "#load test data\n",
    "mnist_test = pd.read_csv('data/mnist_test.csv', header=None)\n",
    "mnist_test = mnist_test.rename(columns={0:'label'})\n",
    "\n",
    "print(\"Train and Test data loaded succesfully!\")"
   ]
  },
  {
   "cell_type": "markdown",
   "metadata": {},
   "source": [
    "### Separate MNIST Train data into a Train data and Cross Validation Set"
   ]
  },
  {
   "cell_type": "code",
   "execution_count": 57,
   "metadata": {},
   "outputs": [],
   "source": [
    "#separate data and labels\n",
    "x = mnist_train.drop(columns='label')\n",
    "y = mnist_train[['label']]\n",
    "\n",
    "#split dataset into train and cross_val set in ratio(70%-30%) using out split_test_train function!\n",
    "x_train, y_train, x_test_crossval, y_test_crossval = split_crossval_train(x, y, 0.7)"
   ]
  },
  {
   "cell_type": "code",
   "execution_count": 58,
   "metadata": {},
   "outputs": [],
   "source": [
    "# prepare test data and test label\n",
    "x_test = mnist_test.drop(columns='label')\n",
    "y_test = mnist_test[['label']]"
   ]
  },
  {
   "cell_type": "markdown",
   "metadata": {},
   "source": [
    "## Using Default values for DecisionTreeClassifier"
   ]
  },
  {
   "cell_type": "code",
   "execution_count": 59,
   "metadata": {},
   "outputs": [],
   "source": [
    "dtree = DecisionTreeClassifier()\n",
    "fit = dtree.fit(x_train, y_train)"
   ]
  },
  {
   "cell_type": "code",
   "execution_count": 60,
   "metadata": {},
   "outputs": [
    {
     "name": "stdout",
     "output_type": "stream",
     "text": [
      "86.63\n"
     ]
    }
   ],
   "source": [
    "# predictions on cross_val set\n",
    "\n",
    "predictions_cross_val = dtree.predict(x_test_crossval)\n",
    "accuracy_100 = accuracy_score(y_test_crossval, predictions_cross_val) *100\n",
    "print(accuracy_100.round(2))"
   ]
  },
  {
   "cell_type": "code",
   "execution_count": 61,
   "metadata": {},
   "outputs": [
    {
     "name": "stdout",
     "output_type": "stream",
     "text": [
      "86.55\n"
     ]
    }
   ],
   "source": [
    "# predictions on test set\n",
    "\n",
    "predictions_test = dtree.predict(x_test)\n",
    "accuracy_100 = accuracy_score(y_test, predictions_test) *100\n",
    "print(accuracy_100.round(2))"
   ]
  },
  {
   "cell_type": "code",
   "execution_count": 69,
   "metadata": {},
   "outputs": [],
   "source": [
    "# tree.plot_tree(fit)"
   ]
  },
  {
   "cell_type": "markdown",
   "metadata": {},
   "source": [
    "## Question 4B\n",
    "#### Tree Classification based on different parameters of Max_depth and Criterion"
   ]
  },
  {
   "cell_type": "code",
   "execution_count": 65,
   "metadata": {},
   "outputs": [],
   "source": [
    "def my_classify(max_depth, criterion):\n",
    "    \n",
    "    result =  {}\n",
    "    dtree = DecisionTreeClassifier(max_depth=max_depth, criterion=criterion)\n",
    "    dtree.fit(x_train, y_train)\n",
    "\n",
    "    # predictions on cross_val set\n",
    "    predictions_cross_val = dtree.predict(x_test_crossval)\n",
    "    accuracy_100 = accuracy_score(y_test_crossval, predictions_cross_val) *100\n",
    "    result['cross_val_set'] = round(accuracy_100, 2)\n",
    "    # predictions on test set\n",
    "\n",
    "    predictions_test = dtree.predict(x_test)\n",
    "    accuracy_100 = accuracy_score(y_test, predictions_test) *100\n",
    "    result['test_set'] = round(accuracy_100, 2)\n",
    "    \n",
    "    return result\n",
    "\n",
    "\n",
    "def tree_variability_test(criterion, max_depths):\n",
    "    \n",
    "    result = {}\n",
    "    \n",
    "    for max_depth in max_depths:\n",
    "        result[f'max_depth={max_depth}'] = my_classify(max_depth, criterion)\n",
    "        print(f\"----{max_depth}\", end=\" \")\n",
    "    return result"
   ]
  },
  {
   "cell_type": "markdown",
   "metadata": {},
   "source": [
    "### DecisonTreeClassifier with parameter Gini and Maxdepth values of 3, 6, 9 ,15, 50"
   ]
  },
  {
   "cell_type": "code",
   "execution_count": 68,
   "metadata": {},
   "outputs": [
    {
     "name": "stdout",
     "output_type": "stream",
     "text": [
      "----3 ----6 ----9 ----15 ----50 "
     ]
    },
    {
     "data": {
      "text/plain": [
       "{'max_depth=3': {'cross_val_set': 44.61, 'test_set': 44.58},\n",
       " 'max_depth=6': {'cross_val_set': 73.54, 'test_set': 73.29},\n",
       " 'max_depth=9': {'cross_val_set': 83.66, 'test_set': 83.35},\n",
       " 'max_depth=15': {'cross_val_set': 86.93, 'test_set': 86.79},\n",
       " 'max_depth=50': {'cross_val_set': 86.61, 'test_set': 86.34}}"
      ]
     },
     "execution_count": 68,
     "metadata": {},
     "output_type": "execute_result"
    }
   ],
   "source": [
    "tree_variability_test('gini', (3,6,9,15,50))"
   ]
  },
  {
   "cell_type": "markdown",
   "metadata": {},
   "source": [
    "**Remarks: The greater the Max_depth value, the greater the Accuracy. This makes sense as the max_depth refers to the vertical height of the tree. so more decisions are being done to create a new leaf and node.**"
   ]
  },
  {
   "cell_type": "markdown",
   "metadata": {},
   "source": [
    "### DecisonTreeClassifier with parameter Entropy and Maxdepth values of 3, 6, 9, 15, 50"
   ]
  },
  {
   "cell_type": "code",
   "execution_count": 67,
   "metadata": {},
   "outputs": [
    {
     "name": "stdout",
     "output_type": "stream",
     "text": [
      "----3 ----6 ----9 ----15 "
     ]
    },
    {
     "data": {
      "text/plain": [
       "{'max_depth=3': {'cross_val_set': 49.05, 'test_set': 48.06},\n",
       " 'max_depth=6': {'cross_val_set': 75.68, 'test_set': 75.94},\n",
       " 'max_depth=9': {'cross_val_set': 85.34, 'test_set': 85.7},\n",
       " 'max_depth=15': {'cross_val_set': 87.06, 'test_set': 88.11}}"
      ]
     },
     "execution_count": 67,
     "metadata": {},
     "output_type": "execute_result"
    }
   ],
   "source": [
    "tree_variability_test('entropy', (3,6,9,15,50))"
   ]
  },
  {
   "cell_type": "markdown",
   "metadata": {},
   "source": [
    "**Remarks: The greater the Max_depth value, the greater the Accuracy. This makes sense as the max_depth refers to the vertical height of the tree. so more decisions are being done to create a new leaf and node.**"
   ]
  },
  {
   "cell_type": "markdown",
   "metadata": {},
   "source": [
    "meta-parameter settings i would recommend is to have the maximum depth value as greater as possible and using Entropy criterion"
   ]
  },
  {
   "cell_type": "code",
   "execution_count": null,
   "metadata": {},
   "outputs": [],
   "source": []
  },
  {
   "cell_type": "code",
   "execution_count": null,
   "metadata": {},
   "outputs": [],
   "source": []
  }
 ],
 "metadata": {
  "kernelspec": {
   "display_name": "Python 3",
   "language": "python",
   "name": "python3"
  },
  "language_info": {
   "codemirror_mode": {
    "name": "ipython",
    "version": 3
   },
   "file_extension": ".py",
   "mimetype": "text/x-python",
   "name": "python",
   "nbconvert_exporter": "python",
   "pygments_lexer": "ipython3",
   "version": "3.7.4"
  }
 },
 "nbformat": 4,
 "nbformat_minor": 2
}
